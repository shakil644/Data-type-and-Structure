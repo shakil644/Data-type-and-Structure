{
  "nbformat": 4,
  "nbformat_minor": 0,
  "metadata": {
    "colab": {
      "provenance": []
    },
    "kernelspec": {
      "name": "python3",
      "display_name": "Python 3"
    },
    "language_info": {
      "name": "python"
    }
  },
  "cells": [
    {
      "cell_type": "markdown",
      "source": [
        "1. What are data structures, and why are they important?\n",
        "Answer:\n",
        "Data structures are specialized formats for organizing, processing, retrieving, and storing data efficiently. They are crucial for:\n",
        "\n",
        "Efficient data access and modification\n",
        "\n",
        "Memory management\n",
        "\n",
        "Enabling algorithms to perform effectively\n",
        "\n",
        "Example in Python:\n",
        "\n",
        "\n",
        "# List - stores a collection of items\n",
        "fruits = ['apple', 'banana', 'mango']\n",
        "2. Explain the difference between mutable and immutable data types with examples.\n",
        "Answer:\n",
        "\n",
        "Mutable: Can be changed after creation (e.g., list, dict, set)\n",
        "\n",
        "Immutable: Cannot be changed once created (e.g., int, str, tuple)\n",
        "\n",
        "Examples:\n",
        "\n",
        "# Mutable\n",
        "my_list = [1, 2, 3]\n",
        "my_list.append(4)\n",
        "\n",
        "# Immutable\n",
        "my_str = \"hello\"\n",
        "# my_str[0] = \"H\"  # This will cause an error\n",
        "3. What are the main differences between lists and tuples in Python?\n",
        "Answer:\n",
        "\n",
        "Feature\tList\tTuple\n",
        "Mutability\tMutable\tImmutable\n",
        "Syntax\t[]\t()\n",
        "Performance\tSlower\tFaster\n",
        "Use case\tChanging data\tFixed data\n",
        "python\n",
        "Copy\n",
        "Edit\n",
        "my_list = [1, 2, 3]\n",
        "my_tuple = (1, 2, 3)\n",
        "Would you like me to continue with the rest of the questions (4–20) in the same style?\n",
        "\n",
        "4. Describe how dictionaries store data.\n",
        "Answer:\n",
        "Dictionaries store data as key-value pairs. Keys must be unique and immutable, and values can be any data type.\n",
        "\n",
        "student = {\"name\": \"Alice\", \"age\": 22, \"course\": \"Python\"}\n",
        "print(student[\"name\"])  # Output: Alice\n",
        "5. Why might you use a set instead of a list in Python?\n",
        "Answer:\n",
        "\n",
        "To eliminate duplicates\n",
        "\n",
        "For faster membership checks\n",
        "\n",
        "Sets are unordered and do not allow duplicates\n",
        "\n",
        "my_list = [1, 2, 2, 3]\n",
        "my_set = set(my_list)  # Output: {1, 2, 3}\n",
        "6. What is a string in Python, and how is it different from a list?\n",
        "Answer:\n",
        "\n",
        "A string is a sequence of characters.\n",
        "\n",
        "It is immutable, unlike lists which are mutable.\n",
        "\n",
        "String elements must be characters; lists can hold any data type.\n",
        "\n",
        "my_string = \"hello\"\n",
        "my_list = ['h', 'e', 'l', 'l', 'o']\n",
        "7. How do tuples ensure data integrity in Python?\n",
        "Answer: Since tuples are immutable, once created, their data cannot be changed. This ensures the integrity of the data across the program.\n",
        "\n",
        "config = (\"localhost\", 8080)\n",
        "# config[1] = 9090  # Error! Tuple cannot be changed\n",
        "8. What is a hash table, and how does it relate to dictionaries in Python?\n",
        "Answer: A hash table maps keys to values using a hash function. Python's dictionaries are implemented as hash tables.\n",
        "\n",
        "my_dict = {\"name\": \"shakil\", \"age\": 23}\n",
        "# 'name' is hashed internally to find the memory address\n",
        "9. Can lists contain different data types in Python?\n",
        "Answer:\n",
        "Yes, lists can store multiple data types.\n",
        "\n",
        "mixed_list = [1, \"apple\", 3.14, True]\n",
        "10. Explain why strings are immutable in Python.\n",
        "Answer: Strings are immutable to:\n",
        "\n",
        "Enhance performance\n",
        "\n",
        "Enable string interning (memory optimization)\n",
        "\n",
        "Make them thread-safe\n",
        "\n",
        "s = \"hello\"\n",
        "# s[0] = 'H'  # This will raise an error\n",
        "11. What advantages do dictionaries offer over lists for certain tasks?\n",
        "Answer:\n",
        "\n",
        "Faster lookup with keys (O(1) time complexity)\n",
        "\n",
        "Better for structured data\n",
        "\n",
        "More readable and logical when data is named\n",
        "\n",
        "users = {\"user1\": \"Alice\", \"user2\": \"Bob\"}\n",
        "12. Describe a scenario where using a tuple would be preferable over a list.\n",
        "Answer:\n",
        "When you want to store constant values that shouldn't change, like:\n",
        "\n",
        "# GPS coordinates\n",
        "location = (40.7128, -74.0060)\n",
        "13. How do sets handle duplicate values in Python?\n",
        "Answer: Sets automatically remove duplicate values.\n",
        "\n",
        "my_set = {1, 2, 2, 3}\n",
        "print(my_set)  # Output: {1, 2, 3}\n",
        "14. How does the “in” keyword work differently for lists and dictionaries?\n",
        "Answer:\n",
        "\n",
        "In lists, it checks for values\n",
        "\n",
        "In dictionaries, it checks for keys\n",
        "\n",
        "print(2 in [1, 2, 3])           # True\n",
        "print(\"name\" in {\"name\": \"Eve\"}) # True\n",
        "15. Can you modify the elements of a tuple? Explain why or why not.\n",
        "Answer:\n",
        "No, tuples are immutable. You cannot change, add, or remove elements once a tuple is created.\n",
        "\n",
        "t = (1, 2, 3)\n",
        "# t[0] = 5  # Error\n",
        "16. What is a nested dictionary, and give an example of its use case?\n",
        "Answer:\n",
        "A dictionary inside another dictionary. Useful for representing structured data like JSON.\n",
        "\n",
        "students = {\n",
        "    \"Alice\": {\"age\": 23, \"grade\": \"A\"},\n",
        "    \"Bob\": {\"age\": 22, \"grade\": \"B\"}\n",
        "}\n",
        "17. Describe the time complexity of accessing elements in a dictionary.\n",
        "Answer:\n",
        "Time complexity is O(1) (constant time), due to hash-based indexing.\n",
        "\n",
        "my_dict = {\"a\": 1}\n",
        "print(my_dict[\"a\"])  # Fast lookup\n",
        "18. In what situations are lists preferred over dictionaries?\n",
        "Answer:\n",
        "\n",
        "When order matters\n",
        "\n",
        "When you need to iterate over elements\n",
        "\n",
        "When there's no need for key-value pairs\n",
        "\n",
        "colors = [\"red\", \"blue\", \"green\"]\n",
        "19. Why are dictionaries considered unordered, and how does that affect data retrieval?\n",
        "Answer: Dictionaries were unordered in versions < Python 3.7. Since Python 3.7+, they maintain insertion order, but conceptually, they are used for fast lookups, not for order.\n",
        "\n",
        "# In modern Python:\n",
        "my_dict = {\"a\": 1, \"b\": 2}  # Maintains order\n",
        "20. Explain the difference between a list and a dictionary in terms of data retrieval.\n",
        "Answer:\n",
        "\n",
        "Feature\tList\tDictionary\n",
        "Access by\tIndex\tKey\n",
        "Time\tO(1) if index\tO(1) with hash\n",
        "Use Case\tOrdered data\tKey-based access\n",
        "\n",
        "my_list = [\"apple\", \"banana\"]\n",
        "my_dict = {\"fruit1\": \"apple\", \"fruit2\": \"banana\"}\n"
      ],
      "metadata": {
        "id": "8092I4hhkEO9"
      }
    },
    {
      "cell_type": "code",
      "source": [],
      "metadata": {
        "id": "Lc3_-6bAlUC0"
      },
      "execution_count": null,
      "outputs": []
    },
    {
      "cell_type": "code",
      "source": [],
      "metadata": {
        "id": "ugHfznzjmipE"
      },
      "execution_count": null,
      "outputs": []
    },
    {
      "cell_type": "code",
      "source": [],
      "metadata": {
        "id": "qhv8PX-Vmi3F"
      },
      "execution_count": null,
      "outputs": []
    },
    {
      "cell_type": "code",
      "source": [],
      "metadata": {
        "id": "e_3rhrklmjDg"
      },
      "execution_count": null,
      "outputs": []
    },
    {
      "cell_type": "code",
      "source": [
        "#PRACTICAL QUSTIONS"
      ],
      "metadata": {
        "id": "ryB7onXYmjaG"
      },
      "execution_count": 1,
      "outputs": []
    },
    {
      "cell_type": "code",
      "source": [
        "#1. Write a code to create a string with your name and print it.\n",
        "my_name = (\"shakil\")\n",
        "print(my_name)\n"
      ],
      "metadata": {
        "colab": {
          "base_uri": "https://localhost:8080/"
        },
        "id": "Qet48GjOmpK-",
        "outputId": "9d0dbf7b-c68f-4180-ab49-22e39e23d3ec"
      },
      "execution_count": 2,
      "outputs": [
        {
          "output_type": "stream",
          "name": "stdout",
          "text": [
            "shakil\n"
          ]
        }
      ]
    },
    {
      "cell_type": "code",
      "source": [
        "#2. Write a code to find the length of the string \"Hello World\".\n",
        "text = \"Hello World\"\n",
        "print(len(text))\n"
      ],
      "metadata": {
        "colab": {
          "base_uri": "https://localhost:8080/"
        },
        "id": "XrwHTD8OnkFI",
        "outputId": "9596a8f2-e513-4544-e3f7-ab5779016f6c"
      },
      "execution_count": 3,
      "outputs": [
        {
          "output_type": "stream",
          "name": "stdout",
          "text": [
            "11\n"
          ]
        }
      ]
    },
    {
      "cell_type": "code",
      "source": [
        "#3. Write a code to slice the first 3 characters from the string \"Python Programming\".\n",
        "text = \"Python Programming\"\n",
        "print(text[:3])\n"
      ],
      "metadata": {
        "colab": {
          "base_uri": "https://localhost:8080/"
        },
        "id": "nYGDaUp1nyYs",
        "outputId": "f29bf5bc-22bd-4113-ebc3-5a91f2dadb25"
      },
      "execution_count": 4,
      "outputs": [
        {
          "output_type": "stream",
          "name": "stdout",
          "text": [
            "Pyt\n"
          ]
        }
      ]
    },
    {
      "cell_type": "code",
      "source": [
        "#4. Write a code to convert the string \"hello\" to uppercase.\n",
        "word = \"hello\"\n",
        "print(word.upper())\n"
      ],
      "metadata": {
        "colab": {
          "base_uri": "https://localhost:8080/"
        },
        "id": "Sj2e1Y9Kn-vc",
        "outputId": "1a2c4f0d-5c8c-4a07-cd97-70e67d9abe1a"
      },
      "execution_count": 5,
      "outputs": [
        {
          "output_type": "stream",
          "name": "stdout",
          "text": [
            "HELLO\n"
          ]
        }
      ]
    },
    {
      "cell_type": "code",
      "source": [
        "#5. Write a code to replace the word \"apple\" with \"orange\" in the string \"I like apple\".\n",
        "sentence = \"I like apple\"\n",
        "print(sentence.replace(\"apple\", \"orange\"))\n"
      ],
      "metadata": {
        "colab": {
          "base_uri": "https://localhost:8080/"
        },
        "id": "d46if7HboRAc",
        "outputId": "17b96eb0-0a1c-4a83-a756-05fa2c34dc80"
      },
      "execution_count": 7,
      "outputs": [
        {
          "output_type": "stream",
          "name": "stdout",
          "text": [
            "I like orange\n"
          ]
        }
      ]
    },
    {
      "cell_type": "code",
      "source": [
        "#6. Write a code to create a list with numbers 1 to 5 and print it.\n",
        "numbers = [1, 2, 3, 4, 5]\n",
        "print(numbers)\n"
      ],
      "metadata": {
        "colab": {
          "base_uri": "https://localhost:8080/"
        },
        "id": "FF9q7szUoimr",
        "outputId": "76ec240a-7b7a-4e55-a63c-1f1d7f02c3a4"
      },
      "execution_count": 8,
      "outputs": [
        {
          "output_type": "stream",
          "name": "stdout",
          "text": [
            "[1, 2, 3, 4, 5]\n"
          ]
        }
      ]
    },
    {
      "cell_type": "code",
      "source": [
        "#7. Write a code to append the number 10 to the list [1, 2, 3, 4].\n",
        "my_list = [1, 2, 3, 4]\n",
        "my_list.append(10)\n",
        "print(my_list)\n"
      ],
      "metadata": {
        "colab": {
          "base_uri": "https://localhost:8080/"
        },
        "id": "fki4rmjko3tt",
        "outputId": "3e032f18-8f47-4e0e-cd2d-e08f941d2bb3"
      },
      "execution_count": 9,
      "outputs": [
        {
          "output_type": "stream",
          "name": "stdout",
          "text": [
            "[1, 2, 3, 4, 10]\n"
          ]
        }
      ]
    },
    {
      "cell_type": "code",
      "source": [
        "#8. Write a code to remove the number 3 from the list [1, 2, 3, 4, 5].\n",
        "my_list = [1, 2, 3, 4, 5]\n",
        "my_list.remove(3)\n",
        "print(my_list)\n"
      ],
      "metadata": {
        "colab": {
          "base_uri": "https://localhost:8080/"
        },
        "id": "e4Zp_iDXpNGj",
        "outputId": "8db28652-82ea-4600-b753-85d4a741e1c4"
      },
      "execution_count": 10,
      "outputs": [
        {
          "output_type": "stream",
          "name": "stdout",
          "text": [
            "[1, 2, 4, 5]\n"
          ]
        }
      ]
    },
    {
      "cell_type": "code",
      "source": [
        "#9. Write a code to access the second element in the list ['a', 'b', 'c', 'd'].\n",
        "letters = ['a', 'b', 'c', 'd']\n",
        "print(letters[1])\n"
      ],
      "metadata": {
        "colab": {
          "base_uri": "https://localhost:8080/"
        },
        "id": "Xm2CKh89pY33",
        "outputId": "a8222f3b-e9f5-4023-960c-097446bb9a1e"
      },
      "execution_count": 11,
      "outputs": [
        {
          "output_type": "stream",
          "name": "stdout",
          "text": [
            "b\n"
          ]
        }
      ]
    },
    {
      "cell_type": "code",
      "source": [
        "#10. Write a code to reverse the list [10, 20, 30, 40, 50].\n",
        "numbers = [10, 20, 30, 40, 50]\n",
        "numbers.reverse()\n",
        "print(numbers)"
      ],
      "metadata": {
        "colab": {
          "base_uri": "https://localhost:8080/"
        },
        "id": "kGBjAqEnpkzk",
        "outputId": "f5116d6d-47ee-4d90-adb9-3c1ea1173af9"
      },
      "execution_count": 12,
      "outputs": [
        {
          "output_type": "stream",
          "name": "stdout",
          "text": [
            "[50, 40, 30, 20, 10]\n"
          ]
        }
      ]
    },
    {
      "cell_type": "code",
      "source": [
        "#11. Create a tuple with the elements 100, 200, 300 and print it.\n",
        "my_tuple = (100, 200, 300)\n",
        "print(my_tuple)\n"
      ],
      "metadata": {
        "colab": {
          "base_uri": "https://localhost:8080/"
        },
        "id": "csFWS81bpy6H",
        "outputId": "dec68496-3cf4-4aff-bf74-a19638f5b30b"
      },
      "execution_count": 13,
      "outputs": [
        {
          "output_type": "stream",
          "name": "stdout",
          "text": [
            "(100, 200, 300)\n"
          ]
        }
      ]
    },
    {
      "cell_type": "code",
      "source": [
        "#12. Access the second-to-last element of the tuple ('red', 'green', 'blue', 'yellow').\n",
        "colors = ('red', 'green', 'blue', 'yellow')\n",
        "print(colors[-2])\n"
      ],
      "metadata": {
        "colab": {
          "base_uri": "https://localhost:8080/"
        },
        "id": "Amg1lFWVtApG",
        "outputId": "01b0a2d8-4c07-4445-cf10-4f9cb113ab43"
      },
      "execution_count": 14,
      "outputs": [
        {
          "output_type": "stream",
          "name": "stdout",
          "text": [
            "blue\n"
          ]
        }
      ]
    },
    {
      "cell_type": "code",
      "source": [
        "#13. Find the minimum number in the tuple (10, 20, 5).\n",
        "my_tuple = (10, 20, 5)\n",
        "print(min(my_tuple))"
      ],
      "metadata": {
        "colab": {
          "base_uri": "https://localhost:8080/"
        },
        "id": "OVIigcpjtnov",
        "outputId": "016b0e0a-455a-4124-bafa-38f0799cbb0b"
      },
      "execution_count": 15,
      "outputs": [
        {
          "output_type": "stream",
          "name": "stdout",
          "text": [
            "5\n"
          ]
        }
      ]
    },
    {
      "cell_type": "code",
      "source": [
        "#14. Find the index of the element \"cat\" in the tuple ('dog', 'cat', 'rabbit').\n",
        "my_tuple = ('dog', 'cat', 'rabbit')\n",
        "print(my_tuple.index('cat'))"
      ],
      "metadata": {
        "colab": {
          "base_uri": "https://localhost:8080/"
        },
        "id": "-NV7EFiatzWI",
        "outputId": "2d0af9c0-964e-4f7b-f7df-81b2ee5dea7b"
      },
      "execution_count": 16,
      "outputs": [
        {
          "output_type": "stream",
          "name": "stdout",
          "text": [
            "1\n"
          ]
        }
      ]
    },
    {
      "cell_type": "code",
      "source": [
        "#15. Create a tuple containing three fruits and check if \"kiwi\" is in it.\n",
        "fruits = ('apple', 'banana', 'kiwi')\n",
        "print('kiwi' in fruits)"
      ],
      "metadata": {
        "colab": {
          "base_uri": "https://localhost:8080/"
        },
        "id": "v4GuZwtUuAnd",
        "outputId": "359abe8d-08f0-4372-cbcf-41bf5ecde5ad"
      },
      "execution_count": 21,
      "outputs": [
        {
          "output_type": "stream",
          "name": "stdout",
          "text": [
            "True\n"
          ]
        }
      ]
    },
    {
      "cell_type": "code",
      "source": [
        "#16. Create a set with the elements 'a', 'b', 'c' and print it.\n",
        "my_set = {'a', 'b', 'c'}\n",
        "print(my_set)\n"
      ],
      "metadata": {
        "colab": {
          "base_uri": "https://localhost:8080/"
        },
        "id": "_jJO26SouN_-",
        "outputId": "db5e8456-280c-40ac-c7d3-afbfebcbff17"
      },
      "execution_count": 22,
      "outputs": [
        {
          "output_type": "stream",
          "name": "stdout",
          "text": [
            "{'c', 'b', 'a'}\n"
          ]
        }
      ]
    },
    {
      "cell_type": "code",
      "source": [
        "#17. Clear all elements from the set {1, 2, 3, 4, 5}.\n",
        "s = {1, 2, 3, 4, 5}\n",
        "s.clear()\n",
        "print(s)\n"
      ],
      "metadata": {
        "colab": {
          "base_uri": "https://localhost:8080/"
        },
        "id": "Y_vXx6j7wDqI",
        "outputId": "7f2a7476-d47f-4b24-e571-ad9bca8dc1d9"
      },
      "execution_count": 23,
      "outputs": [
        {
          "output_type": "stream",
          "name": "stdout",
          "text": [
            "set()\n"
          ]
        }
      ]
    },
    {
      "cell_type": "code",
      "source": [
        "#18. Remove the element 4 from the set {1, 2, 3, 4}.\n",
        "s = {1, 2, 3, 4}\n",
        "s.remove(4)\n",
        "print(s)\n"
      ],
      "metadata": {
        "colab": {
          "base_uri": "https://localhost:8080/"
        },
        "id": "OP24LAZQwSWu",
        "outputId": "4907e8f4-8437-4130-8ea4-ee3a259f36bf"
      },
      "execution_count": 25,
      "outputs": [
        {
          "output_type": "stream",
          "name": "stdout",
          "text": [
            "{1, 2, 3}\n"
          ]
        }
      ]
    },
    {
      "cell_type": "code",
      "source": [
        "#19. Find the union of two sets {1, 2, 3} and {3, 4, 5}.\n",
        "a = {1, 2, 3}\n",
        "b = {3, 4, 5}\n",
        "print(a.union(b))\n",
        "\n"
      ],
      "metadata": {
        "colab": {
          "base_uri": "https://localhost:8080/"
        },
        "id": "hG2aothfweHy",
        "outputId": "61b4b172-dd4d-43f5-b7e7-c7e67f26b7f9"
      },
      "execution_count": 27,
      "outputs": [
        {
          "output_type": "stream",
          "name": "stdout",
          "text": [
            "{1, 2, 3, 4, 5}\n"
          ]
        }
      ]
    },
    {
      "cell_type": "code",
      "source": [
        "#20. Find the intersection of two sets {1, 2, 3} and {2, 3, 4}.\n",
        "a = {1, 2, 3}\n",
        "b = {2, 3, 4}\n",
        "print(a.intersection(b))\n",
        "\n"
      ],
      "metadata": {
        "colab": {
          "base_uri": "https://localhost:8080/"
        },
        "id": "aBtJgLhXwri1",
        "outputId": "29c64639-d51f-46e2-af29-de4528c5be9d"
      },
      "execution_count": 28,
      "outputs": [
        {
          "output_type": "stream",
          "name": "stdout",
          "text": [
            "{2, 3}\n"
          ]
        }
      ]
    },
    {
      "cell_type": "code",
      "source": [
        "#21. Create a dictionary with keys \"name\", \"age\", and \"city\" and print it.\n",
        "person = {\"name\": \"shakil\", \"age\": 23, \"city\": \"coochbehar\"}\n",
        "print(person)\n"
      ],
      "metadata": {
        "colab": {
          "base_uri": "https://localhost:8080/"
        },
        "id": "zrTHWase6ujF",
        "outputId": "e3e650b1-b57c-4758-f71d-caa2e446f9c4"
      },
      "execution_count": 30,
      "outputs": [
        {
          "output_type": "stream",
          "name": "stdout",
          "text": [
            "{'name': 'shakil', 'age': 23, 'city': 'coochbehar'}\n"
          ]
        }
      ]
    },
    {
      "cell_type": "code",
      "source": [
        "#22. Add a new key-value pair \"country\": \"USA\" to the dictionary {'name': 'John', 'age': 25}.\n",
        "person = {'name': 'John', 'age': 25}\n",
        "person['country'] = 'USA'\n",
        "print(person)\n"
      ],
      "metadata": {
        "colab": {
          "base_uri": "https://localhost:8080/"
        },
        "id": "7V0m1Zl47Csr",
        "outputId": "61ef95b2-89e8-4145-90de-5a1ca61659ff"
      },
      "execution_count": 31,
      "outputs": [
        {
          "output_type": "stream",
          "name": "stdout",
          "text": [
            "{'name': 'John', 'age': 25, 'country': 'USA'}\n"
          ]
        }
      ]
    },
    {
      "cell_type": "code",
      "source": [
        "#23. Access the value associated with the key \"name\" in the dictionary {'name': 'Alice', 'age': 30}.\n",
        "data = {'name': 'Alice', 'age': 30}\n",
        "print(data['name'])\n"
      ],
      "metadata": {
        "colab": {
          "base_uri": "https://localhost:8080/"
        },
        "id": "qguV2qHb7qcL",
        "outputId": "44ccbe3d-246a-4098-dbc4-fd7e927c45f6"
      },
      "execution_count": 32,
      "outputs": [
        {
          "output_type": "stream",
          "name": "stdout",
          "text": [
            "Alice\n"
          ]
        }
      ]
    },
    {
      "cell_type": "code",
      "source": [
        "#24. Remove the key \"age\" from the dictionary {'name': 'Bob', 'age': 22, 'city': 'New York'}.\n",
        "person = {'name': 'Bob', 'age': 22, 'city': 'New York'}\n",
        "del person['age']\n",
        "print(person)\n"
      ],
      "metadata": {
        "colab": {
          "base_uri": "https://localhost:8080/"
        },
        "id": "MGMK34QJ75ZK",
        "outputId": "faf34ef6-e477-4906-8c8a-7cd832cd7b89"
      },
      "execution_count": 33,
      "outputs": [
        {
          "output_type": "stream",
          "name": "stdout",
          "text": [
            "{'name': 'Bob', 'city': 'New York'}\n"
          ]
        }
      ]
    },
    {
      "cell_type": "code",
      "source": [
        "#25. Check if the key \"city\" exists in the dictionary {'name': 'Alice', 'city': 'Paris'}.\n",
        "data = {'name': 'Alice', 'city': 'Paris'}\n",
        "print(\"city\" in data)\n"
      ],
      "metadata": {
        "colab": {
          "base_uri": "https://localhost:8080/"
        },
        "id": "zp0OQW-18MQ7",
        "outputId": "dbc3cd0e-d774-45f4-de30-404eeccd99bf"
      },
      "execution_count": 34,
      "outputs": [
        {
          "output_type": "stream",
          "name": "stdout",
          "text": [
            "True\n"
          ]
        }
      ]
    },
    {
      "cell_type": "code",
      "source": [
        "#26. Create a list, a tuple, and a dictionary, and print them all.\n",
        "my_list = [1, 2, 3]\n",
        "my_tuple = (4, 5, 6)\n",
        "my_dict = {'a': 1, 'b': 2}\n",
        "print(my_list)\n",
        "print(my_tuple)\n",
        "print(my_dict)\n"
      ],
      "metadata": {
        "colab": {
          "base_uri": "https://localhost:8080/"
        },
        "id": "LKSjfJvO8gX1",
        "outputId": "e251951b-f6d1-4438-ade9-3dc7760df41d"
      },
      "execution_count": 35,
      "outputs": [
        {
          "output_type": "stream",
          "name": "stdout",
          "text": [
            "[1, 2, 3]\n",
            "(4, 5, 6)\n",
            "{'a': 1, 'b': 2}\n"
          ]
        }
      ]
    },
    {
      "cell_type": "code",
      "source": [
        "#27. Create a list of 5 random numbers between 1 and 100, sort it in ascending order, and print the result.\n",
        "import random\n",
        "numbers = random.sample(range(1, 101), 5)\n",
        "numbers.sort()\n",
        "print(numbers)\n"
      ],
      "metadata": {
        "colab": {
          "base_uri": "https://localhost:8080/"
        },
        "id": "XlR5cwGQ8tS7",
        "outputId": "5b8e95a8-612c-41a0-bdcc-247c3144df62"
      },
      "execution_count": 36,
      "outputs": [
        {
          "output_type": "stream",
          "name": "stdout",
          "text": [
            "[18, 27, 50, 53, 61]\n"
          ]
        }
      ]
    },
    {
      "cell_type": "code",
      "source": [
        "#28. Create a list with strings and print the element at the third index.\n",
        "words = ['apple', 'banana', 'cherry', 'date', 'elderberry']\n",
        "print(words[3])\n"
      ],
      "metadata": {
        "colab": {
          "base_uri": "https://localhost:8080/"
        },
        "id": "SchjV4Qe831_",
        "outputId": "3d434826-cf8a-431f-eef4-3cc0f933eb9d"
      },
      "execution_count": 37,
      "outputs": [
        {
          "output_type": "stream",
          "name": "stdout",
          "text": [
            "date\n"
          ]
        }
      ]
    },
    {
      "cell_type": "code",
      "source": [
        "#29. Combine two dictionaries into one and print the result.\n",
        "dict1 = {'a': 1, 'b': 2}\n",
        "dict2 = {'c': 3, 'd': 4}\n",
        "combined = {**dict1, **dict2}\n",
        "print(combined)\n"
      ],
      "metadata": {
        "colab": {
          "base_uri": "https://localhost:8080/"
        },
        "id": "rNZqZxZ78_NM",
        "outputId": "6ebb6469-4570-4774-a366-a6a2b8ed1110"
      },
      "execution_count": 38,
      "outputs": [
        {
          "output_type": "stream",
          "name": "stdout",
          "text": [
            "{'a': 1, 'b': 2, 'c': 3, 'd': 4}\n"
          ]
        }
      ]
    },
    {
      "cell_type": "code",
      "source": [
        "#30. Convert a list of strings into a set.\n",
        "my_list = ['apple', 'banana', 'apple', 'cherry']\n",
        "my_set = set(my_list)\n",
        "print(my_set)\n"
      ],
      "metadata": {
        "colab": {
          "base_uri": "https://localhost:8080/"
        },
        "id": "Q_NhuTSo9IyS",
        "outputId": "1e911402-b724-4284-a1e8-cafbb9ba91b9"
      },
      "execution_count": 39,
      "outputs": [
        {
          "output_type": "stream",
          "name": "stdout",
          "text": [
            "{'cherry', 'apple', 'banana'}\n"
          ]
        }
      ]
    },
    {
      "cell_type": "code",
      "source": [],
      "metadata": {
        "id": "-D4VrHqp9TfC"
      },
      "execution_count": null,
      "outputs": []
    }
  ]
}